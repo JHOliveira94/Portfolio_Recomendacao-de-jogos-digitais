{
 "cells": [
  {
   "cell_type": "markdown",
   "metadata": {},
   "source": [
    "# **Padrões de vendas de jogos digitais** 🎮 "
   ]
  },
  {
   "cell_type": "markdown",
   "metadata": {},
   "source": [
    "José Henrique de Oliveira<br>\n",
    "[Portfólio](https://joseportfolio.notion.site/Portf-lio-do-Z-308350bb4f4544adb87da2a1a83b8f78) | [LinkedIn](www.linkedin.com/in/jholiveira94)"
   ]
  },
  {
   "cell_type": "markdown",
   "metadata": {},
   "source": [
    "---"
   ]
  },
  {
   "cell_type": "markdown",
   "metadata": {},
   "source": [
    "# **Sumário**\n"
   ]
  },
  {
   "cell_type": "markdown",
   "metadata": {},
   "source": [
    "<a id=\"introducao\"></a>\n",
    "# **Introdução**"
   ]
  },
  {
   "cell_type": "markdown",
   "metadata": {},
   "source": [
    "A industria de jogos digitais entrega grande volume de produções todos os anos e, como qualquer outro setor, necessita que seus produtos **desempenhem bem no mercado**.<br>\n",
    "Portanto, **determinar quais nichos de jogos e clientes** trarão tal resultado é essencial para a continuidade dos projetos de uma empresa desse ramo.\n",
    "\n",
    "Com esse contexto em mente, durante este estudo serão analisadas as vendas de jogos digitais com objetivo de encontrar padrões que auxiliem nessa tomada de decisão tão impactante.<br>\n",
    "O conjunto de dados escolhido para conduzir essa investigação pode ser encontrado na plataforma Kaggle: [**Video Game Sales**](https://www.kaggle.com/datasets/gregorut/videogamesales/data)"
   ]
  },
  {
   "cell_type": "markdown",
   "metadata": {},
   "source": [
    "<a id=\"problemas\"></a>\n",
    "### **Problemas de negócio**"
   ]
  },
  {
   "cell_type": "markdown",
   "metadata": {},
   "source": [
    "Ao longo desse trabalho, será construído um **modelo de recomendação de lançamento de jogos por região** baseado nos padrões de vendas observados nos dados.<br>\n",
    "Para tal, serão respondidas questões mais objetivas que auxiliarão a destrinchar o tema elencado.<br>\n",
    "As perguntas estão agrupadas para facilitar a organização geral do estudo.\n",
    "\n",
    "##### **Objetivo**\n",
    "\n",
    "<div style=\"background-color: purple; color: white; padding: 10px; border-radius: 5px;\">\n",
    "<b>Recomendação de gêneros populares por região</b> <br>\n",
    "Quais gêneros de jogos devem ser lançados em uma região específica para maximizar as vendas?\n",
    "</div>\n",
    "\n",
    "##### **Questões norteadoras**\n",
    "Análise das vendas globais por gênero e plataforma:\n",
    "- Quais gêneros de jogos têm o maior sucesso em termos de vendas globais?\n",
    "- Como as vendas variam entre diferentes plataformas para um mesmo gênero de jogo?\n",
    "\n",
    "Distribuição geográfica das vendas:\n",
    "- Qual região (América do Norte, Europa, Japão, Outras) é mais forte em termos de vendas para diferentes gêneros ou plataformas?\n",
    "- Existem padrões regionais nas preferências de gêneros de jogos?\n",
    "\n",
    "Tendências temporais de lançamento e vendas:\n",
    "- Como as vendas de jogos mudaram ao longo do tempo?\n",
    "- Existe uma correlação entre o ano de lançamento e o sucesso de vendas em diferentes regiões?\n",
    "\n",
    "Impacto da publisher nas vendas:\n",
    "- Quais publishers têm consistentemente os jogos mais vendidos?\n",
    "- Existe uma relação entre o publisher e o sucesso regional ou global de um jogo?\n",
    "\n",
    "Comparação de sucesso entre plataformas:\n",
    "- Quais plataformas tendem a ter jogos com maiores vendas globais e por região?\n",
    "- Existe uma diferença significativa nas vendas entre plataformas para jogos do mesmo gênero?"
   ]
  },
  {
   "cell_type": "markdown",
   "metadata": {},
   "source": [
    "---"
   ]
  },
  {
   "cell_type": "markdown",
   "metadata": {},
   "source": [
    "# **1. Preparações**"
   ]
  },
  {
   "cell_type": "markdown",
   "metadata": {},
   "source": [
    "### **1.1 Bibliotecas**"
   ]
  },
  {
   "cell_type": "code",
   "execution_count": 2,
   "metadata": {},
   "outputs": [],
   "source": [
    "import pandas as pd\n",
    "import numpy as np\n",
    "\n",
    "import matplotlib.pyplot as plt\n",
    "import seaborn as sns"
   ]
  },
  {
   "cell_type": "markdown",
   "metadata": {},
   "source": [
    "### **1.2 Carregando e conhecendo os dados**"
   ]
  },
  {
   "cell_type": "code",
   "execution_count": 25,
   "metadata": {},
   "outputs": [
    {
     "data": {
      "text/html": [
       "<div>\n",
       "<style scoped>\n",
       "    .dataframe tbody tr th:only-of-type {\n",
       "        vertical-align: middle;\n",
       "    }\n",
       "\n",
       "    .dataframe tbody tr th {\n",
       "        vertical-align: top;\n",
       "    }\n",
       "\n",
       "    .dataframe thead th {\n",
       "        text-align: right;\n",
       "    }\n",
       "</style>\n",
       "<table border=\"1\" class=\"dataframe\">\n",
       "  <thead>\n",
       "    <tr style=\"text-align: right;\">\n",
       "      <th></th>\n",
       "      <th>Rank</th>\n",
       "      <th>Name</th>\n",
       "      <th>Platform</th>\n",
       "      <th>Year</th>\n",
       "      <th>Genre</th>\n",
       "      <th>Publisher</th>\n",
       "      <th>NA_Sales</th>\n",
       "      <th>EU_Sales</th>\n",
       "      <th>JP_Sales</th>\n",
       "      <th>Other_Sales</th>\n",
       "      <th>Global_Sales</th>\n",
       "    </tr>\n",
       "  </thead>\n",
       "  <tbody>\n",
       "    <tr>\n",
       "      <th>0</th>\n",
       "      <td>1</td>\n",
       "      <td>Wii Sports</td>\n",
       "      <td>Wii</td>\n",
       "      <td>2006.0</td>\n",
       "      <td>Sports</td>\n",
       "      <td>Nintendo</td>\n",
       "      <td>41.49</td>\n",
       "      <td>29.02</td>\n",
       "      <td>3.77</td>\n",
       "      <td>8.46</td>\n",
       "      <td>82.74</td>\n",
       "    </tr>\n",
       "    <tr>\n",
       "      <th>1</th>\n",
       "      <td>2</td>\n",
       "      <td>Super Mario Bros.</td>\n",
       "      <td>NES</td>\n",
       "      <td>1985.0</td>\n",
       "      <td>Platform</td>\n",
       "      <td>Nintendo</td>\n",
       "      <td>29.08</td>\n",
       "      <td>3.58</td>\n",
       "      <td>6.81</td>\n",
       "      <td>0.77</td>\n",
       "      <td>40.24</td>\n",
       "    </tr>\n",
       "    <tr>\n",
       "      <th>2</th>\n",
       "      <td>3</td>\n",
       "      <td>Mario Kart Wii</td>\n",
       "      <td>Wii</td>\n",
       "      <td>2008.0</td>\n",
       "      <td>Racing</td>\n",
       "      <td>Nintendo</td>\n",
       "      <td>15.85</td>\n",
       "      <td>12.88</td>\n",
       "      <td>3.79</td>\n",
       "      <td>3.31</td>\n",
       "      <td>35.82</td>\n",
       "    </tr>\n",
       "    <tr>\n",
       "      <th>3</th>\n",
       "      <td>4</td>\n",
       "      <td>Wii Sports Resort</td>\n",
       "      <td>Wii</td>\n",
       "      <td>2009.0</td>\n",
       "      <td>Sports</td>\n",
       "      <td>Nintendo</td>\n",
       "      <td>15.75</td>\n",
       "      <td>11.01</td>\n",
       "      <td>3.28</td>\n",
       "      <td>2.96</td>\n",
       "      <td>33.00</td>\n",
       "    </tr>\n",
       "    <tr>\n",
       "      <th>4</th>\n",
       "      <td>5</td>\n",
       "      <td>Pokemon Red/Pokemon Blue</td>\n",
       "      <td>GB</td>\n",
       "      <td>1996.0</td>\n",
       "      <td>Role-Playing</td>\n",
       "      <td>Nintendo</td>\n",
       "      <td>11.27</td>\n",
       "      <td>8.89</td>\n",
       "      <td>10.22</td>\n",
       "      <td>1.00</td>\n",
       "      <td>31.37</td>\n",
       "    </tr>\n",
       "  </tbody>\n",
       "</table>\n",
       "</div>"
      ],
      "text/plain": [
       "   Rank                      Name Platform    Year         Genre Publisher  \\\n",
       "0     1                Wii Sports      Wii  2006.0        Sports  Nintendo   \n",
       "1     2         Super Mario Bros.      NES  1985.0      Platform  Nintendo   \n",
       "2     3            Mario Kart Wii      Wii  2008.0        Racing  Nintendo   \n",
       "3     4         Wii Sports Resort      Wii  2009.0        Sports  Nintendo   \n",
       "4     5  Pokemon Red/Pokemon Blue       GB  1996.0  Role-Playing  Nintendo   \n",
       "\n",
       "   NA_Sales  EU_Sales  JP_Sales  Other_Sales  Global_Sales  \n",
       "0     41.49     29.02      3.77         8.46         82.74  \n",
       "1     29.08      3.58      6.81         0.77         40.24  \n",
       "2     15.85     12.88      3.79         3.31         35.82  \n",
       "3     15.75     11.01      3.28         2.96         33.00  \n",
       "4     11.27      8.89     10.22         1.00         31.37  "
      ]
     },
     "execution_count": 25,
     "metadata": {},
     "output_type": "execute_result"
    }
   ],
   "source": [
    "df = pd.read_csv('vgsales.csv')\n",
    "df.head()"
   ]
  },
  {
   "cell_type": "markdown",
   "metadata": {},
   "source": [
    "Nesse conjunto de dados, há os seguintes atributos:\n",
    "\n",
    "- Rank - Classificação geral das vendas\n",
    "- Name - Nome do jogo\n",
    "- Platform - Platforma de lançamento do jogo (PC,PS4, etc.)\n",
    "- Year - Ano de lançamento do jogo\n",
    "- Genre - Gênero do jogo\n",
    "- Publisher - Empresa responsável pela publicação do jogo\n",
    "- NA_Sales - Vendas na América do Norte (em milhões)\n",
    "- EU_Sales - Vendas na Europa (em milhões)\n",
    "- JP_Sales - Vendas no Japão (em milhões)\n",
    "- Other_Sales - Vendas no restante do mundo (em milhões)\n",
    "- Global_Sales - Total mundial de vendas\n",
    "\n",
    "Considerando que este estudo está em português, algumas expressões serão traduzidas para melhor localização do estudo.<br>\n",
    "Segue relação de tradução:\n",
    "\n",
    "|   **Original**   |    **Tradução**    |\n",
    "| :----------: | :------------: |\n",
    "|     Rank     |       -        |\n",
    "|     Name     |      Nome      |\n",
    "|   Platform   |   Plataforma   |\n",
    "|     Year     |      Ano       |\n",
    "|    Genre     |     Genero     |\n",
    "|  Publisher   |       -        |\n",
    "|   NA_Sales   |   Vendas_AN    |\n",
    "|   EU_Sales   |   Vendas_EU    |\n",
    "|   JP_Sales   |   Vendas_JP    |\n",
    "| Other_Sales  | Vendas_Outras  |\n",
    "| Global_Sales | Vendas_Globais |\n",
    "\n",
    "As expressões **Rank** e **Platform** não receberão tradução pelo uso comum da comunidade de jogos, mesmo no Brasil."
   ]
  },
  {
   "cell_type": "markdown",
   "metadata": {},
   "source": [
    "### **1.3 Adequações iniciais**"
   ]
  },
  {
   "cell_type": "code",
   "execution_count": 27,
   "metadata": {},
   "outputs": [],
   "source": [
    "'''\n",
    "Considerando que o Rank traz informação individualizada de cada jogo e esse estudo focará em comportamentos agrupados,\n",
    "a coluna Rank será retirada. As demais permanecerão.\n",
    "'''\n",
    "\n",
    "df = df.drop('Rank', axis = 1)"
   ]
  },
  {
   "cell_type": "code",
   "execution_count": 28,
   "metadata": {},
   "outputs": [],
   "source": [
    "''' \n",
    "Como colocado na Contextualização, as colunas serão traduzidas.\n",
    "'''\n",
    "\n",
    "df.columns = ['Nome', 'Plataforma', 'Ano', 'Genero', 'Publisher', 'Vendas_AN', 'Vendas_EU', 'Vendas_JP', 'Vendas_Outras', 'Vendas_Globais']"
   ]
  },
  {
   "cell_type": "code",
   "execution_count": 29,
   "metadata": {},
   "outputs": [
    {
     "name": "stdout",
     "output_type": "stream",
     "text": [
      "<class 'pandas.core.frame.DataFrame'>\n",
      "RangeIndex: 16598 entries, 0 to 16597\n",
      "Data columns (total 10 columns):\n",
      " #   Column          Non-Null Count  Dtype  \n",
      "---  ------          --------------  -----  \n",
      " 0   Nome            16598 non-null  object \n",
      " 1   Plataforma      16598 non-null  object \n",
      " 2   Ano             16327 non-null  float64\n",
      " 3   Genero          16598 non-null  object \n",
      " 4   Publisher       16540 non-null  object \n",
      " 5   Vendas_AN       16598 non-null  float64\n",
      " 6   Vendas_EU       16598 non-null  float64\n",
      " 7   Vendas_JP       16598 non-null  float64\n",
      " 8   Vendas_Outras   16598 non-null  float64\n",
      " 9   Vendas_Globais  16598 non-null  float64\n",
      "dtypes: float64(6), object(4)\n",
      "memory usage: 1.3+ MB\n"
     ]
    }
   ],
   "source": [
    "''' \n",
    "Verificando a tipagem das features e a existência de valores nulos\n",
    "'''\n",
    "\n",
    "df.info()"
   ]
  },
  {
   "cell_type": "markdown",
   "metadata": {},
   "source": [
    "A partir dessas informações, conclui-se que:\n",
    "- A tipagem da feature Ano pode ser adequada para int.\n",
    "- Há valores nulos nas features Ano e Publisher. \n",
    "    - Já pode-se entender que é uma quantidade insignificante, portanto não atrapalhará o estudo."
   ]
  },
  {
   "cell_type": "code",
   "execution_count": 36,
   "metadata": {},
   "outputs": [],
   "source": [
    "''' \n",
    "Modificando a tipagem da coluna Ano.\n",
    "Para isso, os valores NA serão preenchidos por zero.\n",
    "'''\n",
    "\n",
    "df['Ano'] = df.Ano.fillna(0)\n",
    "\n",
    "df['Ano'] = df['Ano'].astype(int)"
   ]
  },
  {
   "cell_type": "code",
   "execution_count": 39,
   "metadata": {},
   "outputs": [
    {
     "name": "stdout",
     "output_type": "stream",
     "text": [
      "<class 'pandas.core.series.Series'>\n",
      "RangeIndex: 16598 entries, 0 to 16597\n",
      "Series name: Ano\n",
      "Non-Null Count  Dtype\n",
      "--------------  -----\n",
      "16598 non-null  int32\n",
      "dtypes: int32(1)\n",
      "memory usage: 65.0 KB\n"
     ]
    },
    {
     "data": {
      "text/html": [
       "<div>\n",
       "<style scoped>\n",
       "    .dataframe tbody tr th:only-of-type {\n",
       "        vertical-align: middle;\n",
       "    }\n",
       "\n",
       "    .dataframe tbody tr th {\n",
       "        vertical-align: top;\n",
       "    }\n",
       "\n",
       "    .dataframe thead th {\n",
       "        text-align: right;\n",
       "    }\n",
       "</style>\n",
       "<table border=\"1\" class=\"dataframe\">\n",
       "  <thead>\n",
       "    <tr style=\"text-align: right;\">\n",
       "      <th></th>\n",
       "      <th>Nome</th>\n",
       "      <th>Plataforma</th>\n",
       "      <th>Ano</th>\n",
       "      <th>Genero</th>\n",
       "      <th>Publisher</th>\n",
       "      <th>Vendas_AN</th>\n",
       "      <th>Vendas_EU</th>\n",
       "      <th>Vendas_JP</th>\n",
       "      <th>Vendas_Outras</th>\n",
       "      <th>Vendas_Globais</th>\n",
       "    </tr>\n",
       "  </thead>\n",
       "  <tbody>\n",
       "    <tr>\n",
       "      <th>0</th>\n",
       "      <td>Wii Sports</td>\n",
       "      <td>Wii</td>\n",
       "      <td>2006</td>\n",
       "      <td>Sports</td>\n",
       "      <td>Nintendo</td>\n",
       "      <td>41.49</td>\n",
       "      <td>29.02</td>\n",
       "      <td>3.77</td>\n",
       "      <td>8.46</td>\n",
       "      <td>82.74</td>\n",
       "    </tr>\n",
       "    <tr>\n",
       "      <th>1</th>\n",
       "      <td>Super Mario Bros.</td>\n",
       "      <td>NES</td>\n",
       "      <td>1985</td>\n",
       "      <td>Platform</td>\n",
       "      <td>Nintendo</td>\n",
       "      <td>29.08</td>\n",
       "      <td>3.58</td>\n",
       "      <td>6.81</td>\n",
       "      <td>0.77</td>\n",
       "      <td>40.24</td>\n",
       "    </tr>\n",
       "    <tr>\n",
       "      <th>2</th>\n",
       "      <td>Mario Kart Wii</td>\n",
       "      <td>Wii</td>\n",
       "      <td>2008</td>\n",
       "      <td>Racing</td>\n",
       "      <td>Nintendo</td>\n",
       "      <td>15.85</td>\n",
       "      <td>12.88</td>\n",
       "      <td>3.79</td>\n",
       "      <td>3.31</td>\n",
       "      <td>35.82</td>\n",
       "    </tr>\n",
       "  </tbody>\n",
       "</table>\n",
       "</div>"
      ],
      "text/plain": [
       "                Nome Plataforma   Ano    Genero Publisher  Vendas_AN  \\\n",
       "0         Wii Sports        Wii  2006    Sports  Nintendo      41.49   \n",
       "1  Super Mario Bros.        NES  1985  Platform  Nintendo      29.08   \n",
       "2     Mario Kart Wii        Wii  2008    Racing  Nintendo      15.85   \n",
       "\n",
       "   Vendas_EU  Vendas_JP  Vendas_Outras  Vendas_Globais  \n",
       "0      29.02       3.77           8.46           82.74  \n",
       "1       3.58       6.81           0.77           40.24  \n",
       "2      12.88       3.79           3.31           35.82  "
      ]
     },
     "execution_count": 39,
     "metadata": {},
     "output_type": "execute_result"
    }
   ],
   "source": [
    "''' \n",
    "Verificando as alterações\n",
    "'''\n",
    "\n",
    "df['Ano'].info()\n",
    "\n",
    "df.head(3)"
   ]
  },
  {
   "cell_type": "code",
   "execution_count": 48,
   "metadata": {},
   "outputs": [
    {
     "name": "stdout",
     "output_type": "stream",
     "text": [
      "A quantidade de valores únicos de Plataforma é: 31\n",
      "Os valores únicos de Plataforma:\n",
      " ['Wii' 'NES' 'GB' 'DS' 'X360' 'PS3' 'PS2' 'SNES' 'GBA' '3DS' 'PS4' 'N64'\n",
      " 'PS' 'XB' 'PC' '2600' 'PSP' 'XOne' 'GC' 'WiiU' 'GEN' 'DC' 'PSV' 'SAT'\n",
      " 'SCD' 'WS' 'NG' 'TG16' '3DO' 'GG' 'PCFX'] \n",
      "\n",
      "A quantidade de valores únicos de Genero é: 12\n",
      "Os valores únicos de Genero:\n",
      " ['Sports' 'Platform' 'Racing' 'Role-Playing' 'Puzzle' 'Misc' 'Shooter'\n",
      " 'Simulation' 'Action' 'Fighting' 'Adventure' 'Strategy'] \n",
      "\n",
      "A quantidade de valores únicos de Publisher é: 578\n",
      "Os valores únicos de Publisher:\n",
      " ['Nintendo' 'Microsoft Game Studios' 'Take-Two Interactive'\n",
      " 'Sony Computer Entertainment' 'Activision' 'Ubisoft' 'Bethesda Softworks'\n",
      " 'Electronic Arts' 'Sega' 'SquareSoft' 'Atari' '505 Games' 'Capcom'\n",
      " 'GT Interactive' 'Konami Digital Entertainment'\n",
      " 'Sony Computer Entertainment Europe' 'Square Enix' 'LucasArts'\n",
      " 'Virgin Interactive' 'Warner Bros. Interactive Entertainment'\n",
      " 'Universal Interactive' 'Eidos Interactive' 'RedOctane' 'Vivendi Games'\n",
      " 'Enix Corporation' 'Namco Bandai Games' 'Palcom' 'Hasbro Interactive'\n",
      " 'THQ' 'Fox Interactive' 'Acclaim Entertainment' 'MTV Games'\n",
      " 'Disney Interactive Studios' nan 'Majesco Entertainment' 'Codemasters'\n",
      " 'Red Orb' 'Level 5' 'Arena Entertainment' 'Midway Games' 'JVC'\n",
      " 'Deep Silver' '989 Studios' 'NCSoft' 'UEP Systems' 'Parker Bros.' 'Maxis'\n",
      " 'Imagic' 'Tecmo Koei' 'Valve Software' 'ASCII Entertainment' 'Mindscape'\n",
      " 'Infogrames' 'Unknown' 'Square' 'Valve' 'Activision Value' 'Banpresto'\n",
      " 'D3Publisher' 'Oxygen Interactive' 'Red Storm Entertainment'\n",
      " 'Video System' 'Hello Games' 'Global Star' 'Gotham Games'\n",
      " 'Westwood Studios' 'GungHo' 'Crave Entertainment' 'Hudson Soft' 'Coleco'\n",
      " 'Rising Star Games' 'Atlus' 'TDK Mediactive' 'ASC Games' 'Zoo Games'\n",
      " 'Accolade' 'Sony Online Entertainment' '3DO' 'RTL' 'Natsume'\n",
      " 'Focus Home Interactive' 'Alchemist' 'Black Label Games'\n",
      " 'SouthPeak Games' 'Mastertronic' 'Ocean' 'Zoo Digital Publishing'\n",
      " 'Psygnosis' 'City Interactive' 'Empire Interactive' 'Success' 'Compile'\n",
      " 'Russel' 'Taito' 'Agetec' 'GSP' 'Microprose' 'Play It'\n",
      " 'Slightly Mad Studios' 'Tomy Corporation' 'Sammy Corporation'\n",
      " 'Koch Media' 'Game Factory' 'Titus' 'Marvelous Entertainment' 'Genki'\n",
      " 'Mojang' 'Pinnacle' 'CTO SpA' 'TalonSoft' 'Crystal Dynamics' 'SCi'\n",
      " 'Quelle' 'mixi, Inc' 'Rage Software' 'Ubisoft Annecy' 'Scholastic Inc.'\n",
      " 'Interplay' 'Mystique' 'ChunSoft' 'Square EA'\n",
      " '20th Century Fox Video Games' 'Avanquest Software'\n",
      " 'Hudson Entertainment' 'Nordic Games' 'Men-A-Vision' 'Nobilis'\n",
      " 'Big Ben Interactive' 'Touchstone' 'Spike' 'Jester Interactive'\n",
      " 'Nippon Ichi Software' 'LEGO Media' 'Quest' 'Illusion Softworks'\n",
      " 'Tigervision' 'Funbox Media' 'Rocket Company' 'Metro 3D'\n",
      " 'Mattel Interactive' 'IE Institute' 'Rondomedia'\n",
      " 'Sony Computer Entertainment America' 'Universal Gamex' 'Ghostlight'\n",
      " 'Wizard Video Games' 'BMG Interactive Entertainment' 'PQube'\n",
      " 'Trion Worlds' 'Laguna' 'Ignition Entertainment' 'Takara'\n",
      " 'Kadokawa Shoten' 'Destineer' 'Enterbrain' 'Xseed Games' 'Imagineer'\n",
      " 'System 3 Arcade Software' 'CPG Products' 'Aruze Corp' 'Gamebridge'\n",
      " 'Midas Interactive Entertainment' 'Jaleco' 'Answer Software' 'XS Games'\n",
      " 'Activision Blizzard' 'Pack In Soft' 'Rebellion' 'Xplosiv' 'Ultravision'\n",
      " 'GameMill Entertainment' 'Wanadoo' 'NovaLogic' 'Telltale Games' 'Epoch'\n",
      " 'BAM! Entertainment' 'Knowledge Adventure' 'Mastiff' 'Tetris Online'\n",
      " 'Harmonix Music Systems' 'ESP' 'TYO' 'Telegames' 'Mud Duck Productions'\n",
      " 'Screenlife' 'Pioneer LDC' 'Magical Company' 'Mentor Interactive' 'Kemco'\n",
      " 'Human Entertainment' 'Avanquest' 'Data Age' 'Electronic Arts Victor'\n",
      " 'Black Bean Games' 'Jack of All Games' '989 Sports' 'Takara Tomy'\n",
      " 'Media Rings' 'Elf' 'Kalypso Media' 'Starfish' 'Zushi Games' 'Jorudan'\n",
      " 'Destination Software, Inc' 'New' 'Brash Entertainment'\n",
      " 'ITT Family Games' 'PopCap Games' 'Home Entertainment Suppliers'\n",
      " 'Ackkstudios' 'Starpath Corp.' 'P2 Games' 'BPS' 'Gathering of Developers'\n",
      " 'NewKidCo' 'Storm City Games' 'CokeM Interactive' 'CBS Electronics'\n",
      " 'Magix' 'Marvelous Interactive' 'Nihon Falcom Corporation'\n",
      " 'Wargaming.net' 'Angel Studios' 'Arc System Works' 'Playmates'\n",
      " 'SNK Playmore' 'Hamster Corporation' 'From Software' 'Nippon Columbia'\n",
      " 'Nichibutsu' 'Little Orbit' 'Conspiracy Entertainment'\n",
      " 'DTP Entertainment' 'Hect' 'Mumbo Jumbo' 'Pacific Century Cyber Works'\n",
      " 'Indie Games' 'Liquid Games' 'NEC' 'Axela' 'ArtDink' 'Sunsoft' 'Gust'\n",
      " 'SNK' 'NEC Interchannel' 'FuRyu' 'Xing Entertainment' 'ValuSoft'\n",
      " 'Victor Interactive' 'Detn8 Games' 'American Softworks' 'Nordcurrent'\n",
      " 'Bomb' 'Falcom Corporation' 'AQ Interactive' 'CCP' 'Milestone S.r.l.'\n",
      " 'Sears' 'JoWood Productions' 'Seta Corporation' 'On Demand' 'NCS' 'Aspyr'\n",
      " 'Gremlin Interactive Ltd' 'Agatsuma Entertainment' 'Compile Heart'\n",
      " 'Culture Brain' 'Mad Catz' 'Shogakukan' 'Merscom LLC'\n",
      " 'Rebellion Developments' 'Nippon Telenet' 'TDK Core' 'bitComposer Games'\n",
      " 'Foreign Media Games' 'Astragon' 'SSI' 'Kadokawa Games' 'Idea Factory'\n",
      " 'Performance Designed Products' 'Asylum Entertainment' 'Core Design Ltd.'\n",
      " 'PlayV' 'UFO Interactive' 'Idea Factory International'\n",
      " 'Playlogic Game Factory' 'Essential Games' 'Adeline Software' 'Funcom'\n",
      " 'Panther Software' 'Blast! Entertainment Ltd' 'Game Life' 'DSI Games'\n",
      " 'Avalon Interactive' 'Popcorn Arcade' 'Neko Entertainment'\n",
      " 'Vir2L Studios' 'Aques' 'Syscom' 'White Park Bay Software' 'System 3'\n",
      " 'Vatical Entertainment' 'Daedalic' 'EA Games' 'Media Factory' 'Vic Tokai'\n",
      " 'The Adventure Company' 'Game Arts' 'Broccoli' 'Acquire'\n",
      " 'General Entertainment' 'Excalibur Publishing' 'Imadio'\n",
      " 'Swing! Entertainment' 'Sony Music Entertainment' 'Aqua Plus'\n",
      " 'Paradox Interactive' 'Hip Interactive' 'DreamCatcher Interactive'\n",
      " 'Tripwire Interactive' 'Sting' 'Yacht Club Games' 'SCS Software'\n",
      " 'Bigben Interactive' 'Havas Interactive' 'Slitherine Software' 'Graffiti'\n",
      " 'Funsta' 'Telstar' 'U.S. Gold' 'DreamWorks Interactive'\n",
      " 'Data Design Interactive' 'MTO' 'DHM Interactive' 'FunSoft' 'SPS'\n",
      " 'Bohemia Interactive' 'Reef Entertainment' 'Tru Blu Entertainment' 'Moss'\n",
      " 'T&E Soft' 'O-Games' 'Aksys Games' 'NDA Productions' 'Data East'\n",
      " 'Time Warner Interactive' 'Gainax Network Systems' 'Daito'\n",
      " 'O3 Entertainment' 'Gameloft' 'Xicat Interactive'\n",
      " 'Simon & Schuster Interactive' 'Valcon Games' 'PopTop Software' 'TOHO'\n",
      " 'HMH Interactive' '5pb' 'Cave' 'CDV Software Entertainment' 'Microids'\n",
      " 'PM Studios' 'Paon' 'Micro Cabin' 'GameTek' 'Benesse' 'Type-Moon'\n",
      " 'Enjoy Gaming ltd.' 'Asmik Corp' 'Interplay Productions'\n",
      " 'Asmik Ace Entertainment' 'inXile Entertainment' 'Image Epoch'\n",
      " 'Phantom EFX' 'Evolved Games' 'responDESIGN' 'Culture Publishers'\n",
      " 'Griffin International' 'Hackberry' 'Hearty Robin' 'Nippon Amuse'\n",
      " 'Origin Systems' 'Seventh Chord' 'Mitsui' 'Milestone' 'Abylight'\n",
      " 'Flight-Plan' 'Glams' 'Locus' 'Warp' 'Daedalic Entertainment'\n",
      " 'Alternative Software' 'Myelin Media' 'Mercury Games'\n",
      " 'Irem Software Engineering' 'Sunrise Interactive' 'Elite'\n",
      " 'Evolution Games' 'Tivola' 'Global A Entertainment' 'Edia' 'Athena'\n",
      " 'Aria' 'Gamecock' 'Tommo' 'Altron' 'Happinet' 'iWin' 'Media Works'\n",
      " 'Fortyfive' 'Revolution Software' 'Imax' 'Crimson Cow' '10TACLE Studios'\n",
      " 'Groove Games' 'Pack-In-Video' 'Insomniac Games'\n",
      " 'Ascaron Entertainment GmbH' 'Asgard' 'Ecole' 'Yumedia' 'Phenomedia'\n",
      " 'HAL Laboratory' 'Grand Prix Games' 'DigiCube' 'Creative Core'\n",
      " 'Kaga Create' 'WayForward Technologies' 'LSP Games' 'ASCII Media Works'\n",
      " 'Coconuts Japan' 'Arika' 'Ertain' 'Marvel Entertainment' 'Prototype'\n",
      " 'TopWare Interactive' 'Phantagram' '1C Company' 'The Learning Company'\n",
      " 'TechnoSoft' 'Vap' 'Misawa' 'Tradewest' 'Team17 Software' 'Yeti' 'Pow'\n",
      " 'Navarre Corp' 'MediaQuest' 'Max Five' 'Comfort'\n",
      " 'Monte Christo Multimedia' 'Pony Canyon' 'Riverhillsoft' 'Summitsoft'\n",
      " 'Milestone S.r.l' 'Playmore' 'MLB.com' 'Kool Kizz' 'Flashpoint Games'\n",
      " '49Games' 'Legacy Interactive' 'Alawar Entertainment' 'CyberFront'\n",
      " 'Cloud Imperium Games Corporation' 'Societa' 'Virtual Play Games'\n",
      " 'Interchannel' 'Sonnet' 'Experience Inc.' 'Zenrin' 'Iceberg Interactive'\n",
      " 'Ivolgamus' '2D Boy' 'MC2 Entertainment' 'Kando Games' 'Just Flight'\n",
      " 'Office Create' 'Mamba Games' 'Fields' 'Princess Soft'\n",
      " 'Maximum Family Games' 'Berkeley' 'Fuji' 'Dusenberry Martin Racing'\n",
      " 'imageepoch Inc.' 'Big Fish Games' 'Her Interactive' 'Kamui' 'ASK'\n",
      " 'Headup Games' 'KSS' 'Cygames' 'KID' 'Quinrose' 'Sunflowers'\n",
      " 'dramatic create' 'TGL' 'Encore' 'Extreme Entertainment Group'\n",
      " 'Intergrow' 'G.Rev' 'Sweets' 'Kokopeli Digital Studios' 'Number None'\n",
      " 'Nexon' 'id Software' 'BushiRoad' 'Tryfirst' 'Strategy First' '7G//AMES'\n",
      " 'GN Software' \"Yuke's\" 'Easy Interactive' 'Licensed 4U'\n",
      " 'FuRyu Corporation' 'Lexicon Entertainment' 'Paon Corporation'\n",
      " 'Kids Station' 'GOA' 'Graphsim Entertainment' 'King Records'\n",
      " 'Introversion Software' 'Minato Station' 'Devolver Digital' 'Blue Byte'\n",
      " 'Gaga' 'Yamasa Entertainment' 'Plenty' 'Views' 'fonfun' 'NetRevo'\n",
      " 'Codemasters Online' 'Quintet' 'Phoenix Games' 'Dorart' 'Marvelous Games'\n",
      " 'Focus Multimedia' 'Imageworks' 'Karin Entertainment' 'Aerosoft'\n",
      " 'Technos Japan Corporation' 'Gakken' 'Mirai Shounen' 'Datam Polystar'\n",
      " 'Saurus' 'HuneX' 'Revolution (Japan)' 'Giza10' 'Visco' 'Alvion' 'Mycom'\n",
      " 'Giga' 'Warashi' 'System Soft' 'Sold Out' 'Lighthouse Interactive'\n",
      " 'Masque Publishing' 'RED Entertainment' 'Michaelsoft'\n",
      " 'Media Entertainment' 'New World Computing' 'Genterprise'\n",
      " 'Interworks Unlimited, Inc.' 'Boost On' 'Stainless Games'\n",
      " 'EON Digital Entertainment' 'Epic Games' 'Naxat Soft'\n",
      " 'Ascaron Entertainment' 'Piacci' 'Nitroplus' 'Paradox Development'\n",
      " 'Otomate' 'Ongakukan' 'Commseed' 'Inti Creates' 'Takuyo'\n",
      " 'Interchannel-Holon' 'Rain Games' 'UIG Entertainment'] \n",
      "\n"
     ]
    }
   ],
   "source": [
    "''' \n",
    "Verificação das plataformas, gêneros e publishers apresentadas nesse conjunto de dados\n",
    "'''\n",
    "\n",
    "for c in df[['Plataforma', 'Genero', 'Publisher']]:\n",
    "    print(f'A quantidade de valores únicos de {c} é:', df[c].nunique())\n",
    "    print(f'Os valores únicos de {c}:\\n', df[c].unique(), '\\n')"
   ]
  },
  {
   "cell_type": "markdown",
   "metadata": {},
   "source": [
    "A verificação de valores únicos auxilia para compreender a diversidade das informações presentes no conjunto de dados.<br>\n",
    "Por exemplo, fica nítido que uma análise individualizada por Pataforma, Gênero ou Publisher é inviável se não houver seleção ou agrupamento desses dados.\n",
    "\n",
    "Por outro lado, fortalece as questões norteadoras quanto ao estudo de comportamentos generalizados e quanto a buscar valores com maior impacto."
   ]
  },
  {
   "cell_type": "code",
   "execution_count": 47,
   "metadata": {},
   "outputs": [
    {
     "data": {
      "text/html": [
       "<div>\n",
       "<style scoped>\n",
       "    .dataframe tbody tr th:only-of-type {\n",
       "        vertical-align: middle;\n",
       "    }\n",
       "\n",
       "    .dataframe tbody tr th {\n",
       "        vertical-align: top;\n",
       "    }\n",
       "\n",
       "    .dataframe thead th {\n",
       "        text-align: right;\n",
       "    }\n",
       "</style>\n",
       "<table border=\"1\" class=\"dataframe\">\n",
       "  <thead>\n",
       "    <tr style=\"text-align: right;\">\n",
       "      <th></th>\n",
       "      <th>Ano</th>\n",
       "      <th>Vendas_AN</th>\n",
       "      <th>Vendas_EU</th>\n",
       "      <th>Vendas_JP</th>\n",
       "      <th>Vendas_Outras</th>\n",
       "      <th>Vendas_Globais</th>\n",
       "    </tr>\n",
       "  </thead>\n",
       "  <tbody>\n",
       "    <tr>\n",
       "      <th>count</th>\n",
       "      <td>16598.00</td>\n",
       "      <td>16598.00</td>\n",
       "      <td>16598.00</td>\n",
       "      <td>16598.00</td>\n",
       "      <td>16598.00</td>\n",
       "      <td>16598.00</td>\n",
       "    </tr>\n",
       "    <tr>\n",
       "      <th>mean</th>\n",
       "      <td>1973.65</td>\n",
       "      <td>0.26</td>\n",
       "      <td>0.15</td>\n",
       "      <td>0.08</td>\n",
       "      <td>0.05</td>\n",
       "      <td>0.54</td>\n",
       "    </tr>\n",
       "    <tr>\n",
       "      <th>std</th>\n",
       "      <td>254.35</td>\n",
       "      <td>0.82</td>\n",
       "      <td>0.51</td>\n",
       "      <td>0.31</td>\n",
       "      <td>0.19</td>\n",
       "      <td>1.56</td>\n",
       "    </tr>\n",
       "    <tr>\n",
       "      <th>min</th>\n",
       "      <td>0.00</td>\n",
       "      <td>0.00</td>\n",
       "      <td>0.00</td>\n",
       "      <td>0.00</td>\n",
       "      <td>0.00</td>\n",
       "      <td>0.01</td>\n",
       "    </tr>\n",
       "    <tr>\n",
       "      <th>25%</th>\n",
       "      <td>2003.00</td>\n",
       "      <td>0.00</td>\n",
       "      <td>0.00</td>\n",
       "      <td>0.00</td>\n",
       "      <td>0.00</td>\n",
       "      <td>0.06</td>\n",
       "    </tr>\n",
       "    <tr>\n",
       "      <th>50%</th>\n",
       "      <td>2007.00</td>\n",
       "      <td>0.08</td>\n",
       "      <td>0.02</td>\n",
       "      <td>0.00</td>\n",
       "      <td>0.01</td>\n",
       "      <td>0.17</td>\n",
       "    </tr>\n",
       "    <tr>\n",
       "      <th>75%</th>\n",
       "      <td>2010.00</td>\n",
       "      <td>0.24</td>\n",
       "      <td>0.11</td>\n",
       "      <td>0.04</td>\n",
       "      <td>0.04</td>\n",
       "      <td>0.47</td>\n",
       "    </tr>\n",
       "    <tr>\n",
       "      <th>max</th>\n",
       "      <td>2020.00</td>\n",
       "      <td>41.49</td>\n",
       "      <td>29.02</td>\n",
       "      <td>10.22</td>\n",
       "      <td>10.57</td>\n",
       "      <td>82.74</td>\n",
       "    </tr>\n",
       "  </tbody>\n",
       "</table>\n",
       "</div>"
      ],
      "text/plain": [
       "            Ano  Vendas_AN  Vendas_EU  Vendas_JP  Vendas_Outras  \\\n",
       "count  16598.00   16598.00   16598.00   16598.00       16598.00   \n",
       "mean    1973.65       0.26       0.15       0.08           0.05   \n",
       "std      254.35       0.82       0.51       0.31           0.19   \n",
       "min        0.00       0.00       0.00       0.00           0.00   \n",
       "25%     2003.00       0.00       0.00       0.00           0.00   \n",
       "50%     2007.00       0.08       0.02       0.00           0.01   \n",
       "75%     2010.00       0.24       0.11       0.04           0.04   \n",
       "max     2020.00      41.49      29.02      10.22          10.57   \n",
       "\n",
       "       Vendas_Globais  \n",
       "count        16598.00  \n",
       "mean             0.54  \n",
       "std              1.56  \n",
       "min              0.01  \n",
       "25%              0.06  \n",
       "50%              0.17  \n",
       "75%              0.47  \n",
       "max             82.74  "
      ]
     },
     "execution_count": 47,
     "metadata": {},
     "output_type": "execute_result"
    }
   ],
   "source": [
    "''' \n",
    "Verificação geral de estatísticas descritivas do Dataset\n",
    "'''\n",
    "\n",
    "df.describe().round(2)"
   ]
  },
  {
   "cell_type": "markdown",
   "metadata": {},
   "source": [
    "Considerando que as vendas estão na casa dos milhões, como descrito no **Contexto**, percebe-se com essa análise que a maioria dos jogos não atinge quantidade expressiva de vendas.\n",
    "\n",
    "Apenas a partir do terceiro quartil encontram-se jogos com ao menos um milhão de cópias vendidas, mesmo olhando para Vendas_Globais, que é a soma das regiões."
   ]
  },
  {
   "cell_type": "markdown",
   "metadata": {},
   "source": [
    "### **1.4 Considerações iniciais**"
   ]
  },
  {
   "cell_type": "markdown",
   "metadata": {},
   "source": [
    "A partir das verificações feitas nesse tópico, constata-se que:\n",
    "- As questões norteadoras previamente elencadas são coerentes para esse conjunto de dados.\n",
    "- Analisar comportamentos a partir de agrupamentos, como por região ou gênero, será importante para que dados menos expressivos tenham mais espaço no estudo."
   ]
  },
  {
   "cell_type": "markdown",
   "metadata": {},
   "source": [
    "---"
   ]
  },
  {
   "cell_type": "markdown",
   "metadata": {},
   "source": [
    "# **2. EDA - Análise Exploratória dos Dados**"
   ]
  },
  {
   "cell_type": "markdown",
   "metadata": {},
   "source": [
    "Nessa etapa, serão respondidas as "
   ]
  },
  {
   "cell_type": "markdown",
   "metadata": {},
   "source": [
    "Análise das vendas globais por gênero e plataforma"
   ]
  },
  {
   "cell_type": "markdown",
   "metadata": {},
   "source": [
    "\n",
    "1. [Introdução](#introducao)\n",
    "2. [Problemas de negócio](#problemas)\n",
    "3. [Preparações](#1-preparações)"
   ]
  },
  {
   "cell_type": "code",
   "execution_count": null,
   "metadata": {},
   "outputs": [],
   "source": []
  },
  {
   "cell_type": "code",
   "execution_count": null,
   "metadata": {},
   "outputs": [],
   "source": []
  },
  {
   "cell_type": "code",
   "execution_count": null,
   "metadata": {},
   "outputs": [],
   "source": []
  }
 ],
 "metadata": {
  "kernelspec": {
   "display_name": "base",
   "language": "python",
   "name": "python3"
  },
  "language_info": {
   "codemirror_mode": {
    "name": "ipython",
    "version": 3
   },
   "file_extension": ".py",
   "mimetype": "text/x-python",
   "name": "python",
   "nbconvert_exporter": "python",
   "pygments_lexer": "ipython3",
   "version": "3.11.7"
  }
 },
 "nbformat": 4,
 "nbformat_minor": 2
}
